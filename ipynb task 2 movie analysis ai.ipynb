{
 "cells": [
  {
   "cell_type": "markdown",
   "id": "864b2dbf",
   "metadata": {},
   "source": [
    "# MOVIE ANALYSIS"
   ]
  },
  {
   "cell_type": "code",
   "execution_count": 1,
   "id": "45afc306",
   "metadata": {},
   "outputs": [
    {
     "name": "stdout",
     "output_type": "stream",
     "text": [
      "Movie Budget Analysis\n",
      "Average Budget = $145,714,286\n",
      "\n",
      "Movies ABOVE average:\n",
      " - The Batman (+$39,285,714)\n",
      " - Dune (+$19,285,714)\n",
      " - Interstellar (+$19,285,714)\n",
      " - Tenet (+$59,285,714)\n",
      "\n",
      "Movies BELOW average:\n",
      " - Joker (-$90,714,286)\n",
      " - Oppenheimer (-$45,714,286)\n",
      " - Barbie (-$714,286)\n"
     ]
    }
   ],
   "source": [
    "class MovieAnalysis:\n",
    "    def __init__(self, movies):\n",
    "        self.movies = movies\n",
    "        self.average = self._calculate_average()\n",
    "\n",
    "    def _calculate_average(self):\n",
    "        total = 0\n",
    "        for _, budget in self.movies:\n",
    "            total += budget\n",
    "        return total / len(self.movies)\n",
    "\n",
    "    def show_report(self):\n",
    "        print(\"Movie Budget Analysis\")\n",
    "        print(f\"Average Budget = ${self.average:,.0f}\\n\")\n",
    "\n",
    "        above, below = [], []\n",
    "        for title, budget in self.movies:\n",
    "            diff = budget - self.average\n",
    "            if diff > 0:\n",
    "                above.append((title, diff))\n",
    "            else:\n",
    "                below.append((title, abs(diff)))\n",
    "\n",
    "        print(\"Movies ABOVE average:\")\n",
    "        for title, diff in above:\n",
    "            print(f\" - {title} (+${diff:,.0f})\")\n",
    "\n",
    "        print(\"\\nMovies BELOW average:\")\n",
    "        for title, diff in below:\n",
    "            print(f\" - {title} (-${diff:,.0f})\")\n",
    "\n",
    "\n",
    "movies = [\n",
    "    (\"The Batman\", 185000000),\n",
    "    (\"Joker\", 55000000),\n",
    "    (\"Dune\", 165000000),\n",
    "    (\"Oppenheimer\", 100000000),\n",
    "    (\"Barbie\", 145000000),\n",
    "    (\"Interstellar\", 165000000),\n",
    "    (\"Tenet\", 205000000)\n",
    "]\n",
    "\n",
    "report = MovieAnalysis(movies)\n",
    "report.show_report()\n"
   ]
  }
 ],
 "metadata": {
  "kernelspec": {
   "display_name": "base",
   "language": "python",
   "name": "python3"
  },
  "language_info": {
   "codemirror_mode": {
    "name": "ipython",
    "version": 3
   },
   "file_extension": ".py",
   "mimetype": "text/x-python",
   "name": "python",
   "nbconvert_exporter": "python",
   "pygments_lexer": "ipython3",
   "version": "3.12.4"
  }
 },
 "nbformat": 4,
 "nbformat_minor": 5
}
