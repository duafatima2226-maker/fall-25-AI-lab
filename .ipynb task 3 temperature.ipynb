{
 "cells": [
  {
   "cell_type": "markdown",
   "id": "0bc88346",
   "metadata": {},
   "source": [
    "#LAB TASK 3 AI"
   ]
  },
  {
   "cell_type": "code",
   "execution_count": 2,
   "id": "600b92d9",
   "metadata": {},
   "outputs": [
    {
     "name": "stdout",
     "output_type": "stream",
     "text": [
      "\n",
      "=== Model-Based Reflex Agent ===\n",
      "Living Room at 20°C -> Heater ON\n",
      "Living Room at 21°C -> No action\n",
      "Living Room at 22°C -> Heater OFF\n",
      "---\n",
      "Bedroom at 22°C -> No action\n",
      "Bedroom at 21°C -> Heater ON\n",
      "Bedroom at 23°C -> Heater OFF\n",
      "---\n",
      "Kitchen at 19°C -> Heater ON\n",
      "Kitchen at 20°C -> No action\n",
      "Kitchen at 22°C -> Heater OFF\n",
      "---\n",
      "Study at 23°C -> No action\n",
      "Study at 22°C -> No action\n",
      "Study at 21°C -> Heater ON\n",
      "---\n"
     ]
    }
   ],
   "source": [
    "# Model-Based Reflex Agent for multiple rooms\n",
    "# This one remembers the heater state for each room separately\n",
    "\n",
    "# Memory: was the heater ON in each room before?\n",
    "heater_state = {\n",
    "    \"Living Room\": False,\n",
    "    \"Bedroom\": False,\n",
    "    \"Kitchen\": False,\n",
    "    \"Study\": False\n",
    "}\n",
    "\n",
    "def model_based_agent(room, temperature):\n",
    "    if temperature < 22 and not heater_state[room]:\n",
    "        heater_state[room] = True\n",
    "        return \"Heater ON\"\n",
    "    elif temperature >= 22 and heater_state[room]:\n",
    "        heater_state[room] = False\n",
    "        return \"Heater OFF\"\n",
    "    else:\n",
    "        return \"No action\"\n",
    "\n",
    "\n",
    "# Example run\n",
    "room_temps = {\n",
    "    \"Living Room\": [20, 21, 22],\n",
    "    \"Bedroom\": [22, 21, 23],\n",
    "    \"Kitchen\": [19, 20, 22],\n",
    "    \"Study\": [23, 22, 21]\n",
    "}\n",
    "\n",
    "print(\"\\n=== Model-Based Reflex Agent ===\")\n",
    "for room, temps in room_temps.items():\n",
    "    for temp in temps:\n",
    "        action = model_based_agent(room, temp)\n",
    "        print(f\"{room} at {temp}°C -> {action}\")\n",
    "    print(\"---\")\n"
   ]
  }
 ],
 "metadata": {
  "kernelspec": {
   "display_name": "Python 3",
   "language": "python",
   "name": "python3"
  },
  "language_info": {
   "codemirror_mode": {
    "name": "ipython",
    "version": 3
   },
   "file_extension": ".py",
   "mimetype": "text/x-python",
   "name": "python",
   "nbconvert_exporter": "python",
   "pygments_lexer": "ipython3",
   "version": "3.13.0"
  }
 },
 "nbformat": 4,
 "nbformat_minor": 5
}
