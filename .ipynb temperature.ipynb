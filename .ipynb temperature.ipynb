{
 "cells": [
  {
   "cell_type": "markdown",
   "id": "9c96b6a6",
   "metadata": {},
   "source": [
    "#LAB TASK 3 temperature "
   ]
  },
  {
   "cell_type": "code",
   "execution_count": 1,
   "id": "43783c6c",
   "metadata": {},
   "outputs": [
    {
     "name": "stdout",
     "output_type": "stream",
     "text": [
      "=== Model-Based Reflex Agent ===\n",
      "Living Room at 18°C -> Heater ON\n",
      "Living Room at 19°C -> No action\n",
      "Living Room at 21°C -> No action\n",
      "Living Room at 22°C -> Heater OFF\n",
      "Living Room at 23°C -> No action\n",
      "---\n",
      "Bedroom at 24°C -> No action\n",
      "Bedroom at 23°C -> No action\n",
      "Bedroom at 22°C -> No action\n",
      "Bedroom at 21°C -> Heater ON\n",
      "Bedroom at 20°C -> No action\n",
      "---\n",
      "Kitchen at 21°C -> Heater ON\n",
      "Kitchen at 21°C -> No action\n",
      "Kitchen at 21°C -> No action\n",
      "Kitchen at 22°C -> Heater OFF\n",
      "Kitchen at 23°C -> No action\n",
      "---\n",
      "Study at 25°C -> No action\n",
      "Study at 24°C -> No action\n",
      "Study at 23°C -> No action\n",
      "Study at 22°C -> No action\n",
      "Study at 21°C -> Heater ON\n",
      "---\n"
     ]
    }
   ],
   "source": [
    "# Model-Based Reflex Agent\n",
    "# Remembers the last action to avoid repeating ON/OFF unnecessarily.\n",
    "\n",
    "# Memory (last action in each room)\n",
    "last_action = {\n",
    "    \"Living Room\": \"OFF\",\n",
    "    \"Bedroom\": \"OFF\",\n",
    "    \"Kitchen\": \"OFF\",\n",
    "    \"Study\": \"OFF\"\n",
    "}\n",
    "\n",
    "def model_based_agent(room, temperature):\n",
    "    if temperature < 22 and last_action[room] != \"ON\":\n",
    "        last_action[room] = \"ON\"\n",
    "        return \"Heater ON\"\n",
    "    elif temperature >= 22 and last_action[room] != \"OFF\":\n",
    "        last_action[room] = \"OFF\"\n",
    "        return \"Heater OFF\"\n",
    "    else:\n",
    "        return \"No action\"  # same state, do nothing\n",
    "\n",
    "\n",
    "# New Example Temperatures\n",
    "room_temps = {\n",
    "    \"Living Room\": [18, 19, 21, 22, 23],\n",
    "    \"Bedroom\": [24, 23, 22, 21, 20],\n",
    "    \"Kitchen\": [21, 21, 21, 22, 23],\n",
    "    \"Study\": [25, 24, 23, 22, 21]\n",
    "}\n",
    "\n",
    "print(\"=== Model-Based Reflex Agent ===\")\n",
    "for room, temps in room_temps.items():\n",
    "    for temp in temps:\n",
    "        action = model_based_agent(room, temp)\n",
    "        print(f\"{room} at {temp}°C -> {action}\")\n",
    "    print(\"---\")\n"
   ]
  }
 ],
 "metadata": {
  "kernelspec": {
   "display_name": "Python 3",
   "language": "python",
   "name": "python3"
  },
  "language_info": {
   "codemirror_mode": {
    "name": "ipython",
    "version": 3
   },
   "file_extension": ".py",
   "mimetype": "text/x-python",
   "name": "python",
   "nbconvert_exporter": "python",
   "pygments_lexer": "ipython3",
   "version": "3.13.0"
  }
 },
 "nbformat": 4,
 "nbformat_minor": 5
}
