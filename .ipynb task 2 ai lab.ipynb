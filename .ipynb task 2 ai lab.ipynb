{
 "cells": [
  {
   "cell_type": "markdown",
   "id": "2af4f588",
   "metadata": {},
   "source": [
    "#MINI PROJECT 1:"
   ]
  },
  {
   "cell_type": "code",
   "execution_count": 1,
   "id": "5a6489d9",
   "metadata": {},
   "outputs": [
    {
     "name": "stdout",
     "output_type": "stream",
     "text": [
      "Computer picks: 5\n",
      "Total so far: 0 + 5 = 5\n",
      "Computer says: Buzz!\n",
      "\n",
      "Computer picks: 6\n",
      "Total so far: 5 + 6 = 11\n",
      "Computer says: 11\n",
      "\n",
      "Computer picks: 7\n",
      "Total so far: 6 + 7 = 13\n",
      "Computer says: 13\n",
      "\n",
      "Computer picks: 8\n",
      "Total so far: 7 + 8 = 15\n",
      "Computer says: FizzBuzz!\n",
      "\n",
      "Computer picks: 9\n",
      "Total so far: 8 + 9 = 17\n",
      "Computer says: 17\n",
      "\n",
      "Computer picks: 10\n",
      "Total so far: 9 + 10 = 19\n",
      "Computer says: 19\n",
      "\n",
      "Computer picks: 11\n",
      "Total so far: 10 + 11 = 21\n",
      "Computer says: Fizz!\n",
      "\n",
      "Computer picks: 12\n",
      "Total so far: 11 + 12 = 23\n",
      "Computer says: 23\n",
      "\n",
      "Computer picks: 13\n",
      "Total so far: 12 + 13 = 25\n",
      "Computer says: Buzz!\n",
      "\n",
      "Computer picks: 14\n",
      "Total so far: 13 + 14 = 27\n",
      "Computer says: Fizz!\n",
      "\n",
      "Computer picks: 15\n",
      "Total so far: 14 + 15 = 29\n",
      "Computer says: 29\n",
      "\n"
     ]
    }
   ],
   "source": [
    "previous_number = 0\n",
    "\n",
    "for current_number in range(5, 16):   # starts at 5, ends at 15\n",
    "    print(f\"Computer picks: {current_number}\")\n",
    "    total = previous_number + current_number\n",
    "    print(f\"Total so far: {previous_number} + {current_number} = {total}\")\n",
    "\n",
    "    if total % 3 == 0 and total % 5 == 0:\n",
    "        print(\"Computer says: FizzBuzz!\")\n",
    "    elif total % 3 == 0:\n",
    "        print(\"Computer says: Fizz!\")\n",
    "    elif total % 5 == 0:\n",
    "        print(\"Computer says: Buzz!\")\n",
    "    else:\n",
    "        print(f\"Computer says: {total}\")\n",
    "\n",
    "    print()\n",
    "    previous_number = current_number\n"
   ]
  }
 ],
 "metadata": {
  "kernelspec": {
   "display_name": "base",
   "language": "python",
   "name": "python3"
  },
  "language_info": {
   "codemirror_mode": {
    "name": "ipython",
    "version": 3
   },
   "file_extension": ".py",
   "mimetype": "text/x-python",
   "name": "python",
   "nbconvert_exporter": "python",
   "pygments_lexer": "ipython3",
   "version": "3.12.4"
  }
 },
 "nbformat": 4,
 "nbformat_minor": 5
}
