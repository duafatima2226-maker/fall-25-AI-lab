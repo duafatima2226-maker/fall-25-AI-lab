{
 "cells": [
  {
   "cell_type": "markdown",
   "id": "52aab1ef",
   "metadata": {},
   "source": [
    "TASK 5:"
   ]
  },
  {
   "cell_type": "code",
   "execution_count": 3,
   "id": "c7028944",
   "metadata": {},
   "outputs": [
    {
     "name": "stdout",
     "output_type": "stream",
     "text": [
      "DFS with Stack:\n",
      "A B D E C F \n",
      "Preorder:\n",
      "A B D E C F \n",
      "Inorder:\n",
      "D B E A C F \n",
      "Postorder:\n",
      "D E B F C A "
     ]
    }
   ],
   "source": [
    "# Simple Node class\n",
    "class Node:\n",
    "    def __init__(self, value):\n",
    "        self.value = value\n",
    "        self.left = None\n",
    "        self.right = None\n",
    "\n",
    "\n",
    "# DFS with Stack (like Preorder)\n",
    "def dfs_stack(root):\n",
    "    stack = [root]\n",
    "    while stack:\n",
    "        node = stack.pop()\n",
    "        print(node.value, end=\" \")\n",
    "        if node.right:\n",
    "            stack.append(node.right)\n",
    "        if node.left:\n",
    "            stack.append(node.left)\n",
    "\n",
    "\n",
    "# Preorder (Root -> Left -> Right)\n",
    "def preorder(root):\n",
    "    if root:\n",
    "        print(root.value, end=\" \")\n",
    "        preorder(root.left)\n",
    "        preorder(root.right)\n",
    "\n",
    "\n",
    "# Inorder (Left -> Root -> Right)\n",
    "def inorder(root):\n",
    "    if root:\n",
    "        inorder(root.left)\n",
    "        print(root.value, end=\" \")\n",
    "        inorder(root.right)\n",
    "\n",
    "\n",
    "# Postorder (Left -> Right -> Root)\n",
    "def postorder(root):\n",
    "    if root:\n",
    "        postorder(root.left)\n",
    "        postorder(root.right)\n",
    "        print(root.value, end=\" \")\n",
    "       \n",
    "# Build the tree\n",
    "root = Node(\"A\")\n",
    "root.left = Node(\"B\")\n",
    "root.right = Node(\"C\")\n",
    "root.left.left = Node(\"D\")\n",
    "root.left.right = Node(\"E\")\n",
    "root.right.right = Node(\"F\")\n",
    "\n",
    "# Run traversals\n",
    "print(\"DFS with Stack:\")\n",
    "dfs_stack(root)      # A B D E C F\n",
    "\n",
    "print(\"\\nPreorder:\")\n",
    "preorder(root)       # A B D E C F\n",
    "\n",
    "print(\"\\nInorder:\")\n",
    "inorder(root)        # D B E A C F\n",
    "\n",
    "print(\"\\nPostorder:\")\n",
    "postorder(root)      # D E B F C A\n",
    "\n",
    "\n"
   ]
  },
  {
   "cell_type": "markdown",
   "id": "cbe91942",
   "metadata": {},
   "source": [
    "TASK 6:"
   ]
  },
  {
   "cell_type": "code",
   "execution_count": 8,
   "id": "4b97ffce",
   "metadata": {},
   "outputs": [
    {
     "name": "stdout",
     "output_type": "stream",
     "text": [
      "BFS without Queue & Node:\n",
      "A B C D E F "
     ]
    }
   ],
   "source": [
    "# BFS without Queue & without Node class\n",
    "def bfs_array(tree, index=0):\n",
    "    n = len(tree)\n",
    "    for i in range(n):\n",
    "        print(tree[i], end=\" \")\n",
    "\n",
    "# Example as list\n",
    "tree = [\"A\", \"B\", \"C\", \"D\", \"E\", \"F\"]\n",
    "\n",
    "print(\"BFS without Queue & Node:\")\n",
    "bfs_array(tree)   # A B C D E F\n"
   ]
  },
  {
   "cell_type": "code",
   "execution_count": null,
   "id": "0d68d2f7",
   "metadata": {},
   "outputs": [],
   "source": [
    "2. BFS with Queue & Node class"
   ]
  },
  {
   "cell_type": "code",
   "execution_count": 9,
   "id": "87487865",
   "metadata": {},
   "outputs": [
    {
     "name": "stdout",
     "output_type": "stream",
     "text": [
      "BFS with Queue & Node:\n",
      "A B C D E F "
     ]
    }
   ],
   "source": [
    "from collections import deque\n",
    "\n",
    "# Node class\n",
    "class Node:\n",
    "    def __init__(self, value):\n",
    "        self.value = value\n",
    "        self.left = None\n",
    "        self.right = None\n",
    "\n",
    "# BFS with Queue\n",
    "def bfs_queue(root):\n",
    "    if not root:\n",
    "        return\n",
    "    \n",
    "    q = deque([root])  # queue start with root\n",
    "    while q:\n",
    "        node = q.popleft()   # remove from front\n",
    "        print(node.value, end=\" \")\n",
    "        if node.left:\n",
    "            q.append(node.left)\n",
    "        if node.right:\n",
    "            q.append(node.right)\n",
    "\n",
    "# Example Tree\n",
    "root = Node(\"A\")\n",
    "root.left = Node(\"B\")\n",
    "root.right = Node(\"C\")\n",
    "root.left.left = Node(\"D\")\n",
    "root.left.right = Node(\"E\")\n",
    "root.right.right = Node(\"F\")\n",
    "\n",
    "print(\"BFS with Queue & Node:\")\n",
    "bfs_queue(root)   # A B C D E F\n"
   ]
  }
 ],
 "metadata": {
  "kernelspec": {
   "display_name": "Python 3",
   "language": "python",
   "name": "python3"
  },
  "language_info": {
   "codemirror_mode": {
    "name": "ipython",
    "version": 3
   },
   "file_extension": ".py",
   "mimetype": "text/x-python",
   "name": "python",
   "nbconvert_exporter": "python",
   "pygments_lexer": "ipython3",
   "version": "3.13.0"
  }
 },
 "nbformat": 4,
 "nbformat_minor": 5
}
