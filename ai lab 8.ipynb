{
 "cells": [
  {
   "cell_type": "markdown",
   "id": "39723cff",
   "metadata": {},
   "source": [
    "#lab 8 :"
   ]
  },
  {
   "cell_type": "code",
   "execution_count": 1,
   "id": "8a34bd2c",
   "metadata": {},
   "outputs": [
    {
     "name": "stdout",
     "output_type": "stream",
     "text": [
      "The optimal value is: 15\n"
     ]
    }
   ],
   "source": [
    "import math\n",
    "\n",
    "# Minimax function definition\n",
    "def minimax(curDepth, nodeIndex, isMaxTurn, scores, targetDepth):\n",
    "    # Base condition: if target depth is reached\n",
    "    if curDepth == targetDepth:\n",
    "        return scores[nodeIndex]\n",
    "\n",
    "    # If it is the maximizer's turn\n",
    "    if isMaxTurn:\n",
    "        return max(\n",
    "            minimax(curDepth + 1, nodeIndex * 2, False, scores, targetDepth),\n",
    "            minimax(curDepth + 1, nodeIndex * 2 + 1, False, scores, targetDepth)\n",
    "        )\n",
    "    else:\n",
    "        # If it is the minimizer's turn\n",
    "        return min(\n",
    "            minimax(curDepth + 1, nodeIndex * 2, True, scores, targetDepth),\n",
    "            minimax(curDepth + 1, nodeIndex * 2 + 1, True, scores, targetDepth)\n",
    "        )\n",
    "\n",
    "# Driver Code\n",
    "scores = [7, 12, 5, 23, 9, 15, 8, 20]  # Updated leaf node values\n",
    "treeDepth = int(math.log(len(scores), 2))\n",
    "\n",
    "print(\"The optimal value is:\", minimax(0, 0, True, scores, treeDepth))\n"
   ]
  }
 ],
 "metadata": {
  "kernelspec": {
   "display_name": "Python 3",
   "language": "python",
   "name": "python3"
  },
  "language_info": {
   "codemirror_mode": {
    "name": "ipython",
    "version": 3
   },
   "file_extension": ".py",
   "mimetype": "text/x-python",
   "name": "python",
   "nbconvert_exporter": "python",
   "pygments_lexer": "ipython3",
   "version": "3.13.0"
  }
 },
 "nbformat": 4,
 "nbformat_minor": 5
}
