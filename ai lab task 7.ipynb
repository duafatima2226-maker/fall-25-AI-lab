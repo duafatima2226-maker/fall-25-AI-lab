{
 "cells": [
  {
   "cell_type": "markdown",
   "id": "80a3cbd4",
   "metadata": {},
   "source": [
    "#lab task 7:"
   ]
  },
  {
   "cell_type": "code",
   "execution_count": 1,
   "id": "ca842933",
   "metadata": {},
   "outputs": [
    {
     "name": "stdout",
     "output_type": "stream",
     "text": [
      "Shortest path found by A* Algorithm: ['S', 'A', 'D', 'F', 'H']\n"
     ]
    }
   ],
   "source": [
    "# A* Algorithm Implementation\n",
    "# Subject: Artificial Intelligence\n",
    "# Lab 7 - Task 1\n",
    "# Student: [dua fatima]\n",
    "\n",
    "class Node:\n",
    "    def __init__(self, name, parent=None):\n",
    "        self.name = name\n",
    "        self.parent = parent\n",
    "        self.g = 0  # Cost from start to current node\n",
    "        self.h = 0  # Heuristic (estimated cost to goal)\n",
    "        self.f = 0  # Total cost (f = g + h)\n",
    "\n",
    "def astar(graph, heuristics, start, goal):\n",
    "    open_list = []   # Nodes to be evaluated\n",
    "    closed_list = [] # Nodes already evaluated\n",
    "\n",
    "    start_node = Node(start)\n",
    "    goal_node = Node(goal)\n",
    "    open_list.append(start_node)\n",
    "\n",
    "    while open_list:\n",
    "        # Sort the open list to get the node with lowest f value\n",
    "        open_list.sort(key=lambda x: x.f)\n",
    "        current_node = open_list.pop(0)\n",
    "        closed_list.append(current_node)\n",
    "\n",
    "        # If goal is reached\n",
    "        if current_node.name == goal_node.name:\n",
    "            path = []\n",
    "            while current_node:\n",
    "                path.append(current_node.name)\n",
    "                current_node = current_node.parent\n",
    "            return path[::-1]  # Reverse path\n",
    "\n",
    "        # Explore neighbors\n",
    "        for (neighbor, cost) in graph[current_node.name]:\n",
    "            if any(closed.name == neighbor for closed in closed_list):\n",
    "                continue\n",
    "\n",
    "            child = Node(neighbor, current_node)\n",
    "            child.g = current_node.g + cost\n",
    "            child.h = heuristics[neighbor]\n",
    "            child.f = child.g + child.h\n",
    "\n",
    "            if any(open_node.name == child.name and open_node.f <= child.f for open_node in open_list):\n",
    "                continue\n",
    "\n",
    "            open_list.append(child)\n",
    "\n",
    "    return None  # No path found\n",
    "\n",
    "\n",
    "# Updated Example Graph (changed values)\n",
    "graph = {\n",
    "    'S': [('A', 2), ('B', 5)],\n",
    "    'A': [('C', 4), ('D', 7)],\n",
    "    'B': [('E', 3)],\n",
    "    'C': [('F', 6)],\n",
    "    'D': [('F', 2), ('G', 3)],\n",
    "    'E': [('G', 5)],\n",
    "    'F': [('H', 1)],\n",
    "    'G': [('H', 2)],\n",
    "    'H': []\n",
    "}\n",
    "\n",
    "# Updated Heuristic Values (estimated distance to goal)\n",
    "heuristics = {\n",
    "    'S': 10,\n",
    "    'A': 8,\n",
    "    'B': 7,\n",
    "    'C': 6,\n",
    "    'D': 5,\n",
    "    'E': 5,\n",
    "    'F': 3,\n",
    "    'G': 2,\n",
    "    'H': 0\n",
    "}\n",
    "\n",
    "# Run A* Algorithm\n",
    "path = astar(graph, heuristics, 'S', 'H')\n",
    "print(\"Shortest path found by A* Algorithm:\", path)\n"
   ]
  }
 ],
 "metadata": {
  "kernelspec": {
   "display_name": "Python 3",
   "language": "python",
   "name": "python3"
  },
  "language_info": {
   "codemirror_mode": {
    "name": "ipython",
    "version": 3
   },
   "file_extension": ".py",
   "mimetype": "text/x-python",
   "name": "python",
   "nbconvert_exporter": "python",
   "pygments_lexer": "ipython3",
   "version": "3.13.0"
  }
 },
 "nbformat": 4,
 "nbformat_minor": 5
}
