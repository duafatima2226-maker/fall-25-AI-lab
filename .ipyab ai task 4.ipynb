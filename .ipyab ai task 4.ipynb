{
 "cells": [
  {
   "cell_type": "markdown",
   "id": "4425f423",
   "metadata": {},
   "source": [
    "#lab task 4:"
   ]
  },
  {
   "cell_type": "markdown",
   "id": "e75c1a9d",
   "metadata": {},
   "source": [
    "#luhun algroithum:"
   ]
  },
  {
   "cell_type": "code",
   "execution_count": 1,
   "id": "7e69f589",
   "metadata": {},
   "outputs": [
    {
     "name": "stdout",
     "output_type": "stream",
     "text": [
      "4532015112830366 -> True\n",
      "6011111111111117 -> True\n",
      "79927398713 -> True\n",
      "9876543210 -> False\n"
     ]
    }
   ],
   "source": [
    "def luhn_check(number: str) -> bool:\n",
    "    digits = [int(ch) for ch in number if ch.isdigit()]\n",
    "    if not digits:\n",
    "        return False\n",
    "\n",
    "    check_digit = digits.pop()\n",
    "    digits.reverse()\n",
    "\n",
    "    for i in range(len(digits)):\n",
    "        if i % 2 == 0:   # every second digit\n",
    "            digits[i] *= 2\n",
    "            if digits[i] > 9:\n",
    "                digits[i] -= 9\n",
    "\n",
    "    total = sum(digits) + check_digit\n",
    "    return total % 10 == 0\n",
    "\n",
    "\n",
    "# Changed examples\n",
    "examples = [\n",
    "    \"4532015112830366\",  # Visa test number (valid)\n",
    "    \"6011111111111117\",  # Discover test number (valid)\n",
    "    \"79927398713\",       # famous valid example\n",
    "    \"9876543210\"         # invalid\n",
    "]\n",
    "\n",
    "for num in examples:\n",
    "    print(num, \"->\", luhn_check(num))\n"
   ]
  },
  {
   "cell_type": "markdown",
   "id": "0010e7fb",
   "metadata": {},
   "source": [
    "#remove punbutation from sentence"
   ]
  },
  {
   "cell_type": "code",
   "execution_count": 2,
   "id": "59cd4fcf",
   "metadata": {},
   "outputs": [
    {
     "name": "stdout",
     "output_type": "stream",
     "text": [
      "Before: Hello!!! This is Lab: 4, do you like Python??\n",
      "After:  Hello This is Lab 4 do you like Python\n"
     ]
    }
   ],
   "source": [
    "import string\n",
    "\n",
    "def remove_punctuation(text: str) -> str:\n",
    "    table = str.maketrans('', '', string.punctuation)\n",
    "    return text.translate(table)\n",
    "\n",
    "\n",
    "# Changed example\n",
    "sentence = \"Hello!!! This is Lab: 4, do you like Python??\"\n",
    "print(\"Before:\", sentence)\n",
    "print(\"After: \", remove_punctuation(sentence))\n",
    "\n"
   ]
  },
  {
   "cell_type": "markdown",
   "id": "56390435",
   "metadata": {},
   "source": [
    "#sort words sentence allpabatically:"
   ]
  },
  {
   "cell_type": "code",
   "execution_count": 3,
   "id": "1f435eff",
   "metadata": {},
   "outputs": [
    {
     "name": "stdout",
     "output_type": "stream",
     "text": [
      "Original: Orange banana Apple mango grape\n",
      "Sorted:   Apple banana grape mango Orange\n"
     ]
    }
   ],
   "source": [
    "def sort_sentence(sentence: str) -> str:\n",
    "    import string\n",
    "    table = str.maketrans('', '', string.punctuation)\n",
    "    cleaned = sentence.translate(table)\n",
    "    words = cleaned.split()\n",
    "    words.sort(key=str.lower)\n",
    "    return \" \".join(words)\n",
    "\n",
    "\n",
    "# Changed example\n",
    "text = \"Orange banana Apple mango grape\"\n",
    "print(\"Original:\", text)\n",
    "print(\"Sorted:  \", sort_sentence(text))\n"
   ]
  }
 ],
 "metadata": {
  "kernelspec": {
   "display_name": "Python 3",
   "language": "python",
   "name": "python3"
  },
  "language_info": {
   "codemirror_mode": {
    "name": "ipython",
    "version": 3
   },
   "file_extension": ".py",
   "mimetype": "text/x-python",
   "name": "python",
   "nbconvert_exporter": "python",
   "pygments_lexer": "ipython3",
   "version": "3.13.0"
  }
 },
 "nbformat": 4,
 "nbformat_minor": 5
}
